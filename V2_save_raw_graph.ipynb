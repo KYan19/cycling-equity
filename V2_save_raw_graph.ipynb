{
 "cells": [
  {
   "cell_type": "code",
   "execution_count": 1,
   "id": "1b07ca2f-00eb-4a31-8ee2-2cb165198160",
   "metadata": {},
   "outputs": [],
   "source": [
    "import cenpy\n",
    "import osmnx\n",
    "import contextily\n",
    "import networkx as nx\n",
    "import pandas as pd\n",
    "import pickle\n",
    "import geopandas\n",
    "import numpy as np"
   ]
  },
  {
   "cell_type": "code",
   "execution_count": 2,
   "id": "1d40c05f-45e5-48e3-82e5-c6709a683918",
   "metadata": {},
   "outputs": [],
   "source": [
    "def return_layers(place):\n",
    "    '''INPUT: string query for place of interest\n",
    "       OUTPUT: list of networkx graphs, each representing a different road type layer'''\n",
    "    G_1 = osmnx.graph_from_place(place,retain_all=True,\n",
    "                          custom_filter='[\"highway\"~\"cycleway|path|living_street\"][\"bicycle\"!~\"no\"]')\n",
    "    G_2 = osmnx.graph_from_place(place,retain_all=True,custom_filter='[\"cycleway\"~\"lane\"]')\n",
    "    L1 = nx.compose(G_1,G_2)\n",
    "\n",
    "    G_1 = osmnx.graph_from_place(place,network_type='all',simplify=True,retain_all=True,\n",
    "                                   custom_filter='[\"highway\"~\"cycleway|path|living_street|residential\"][\"bicycle\"!~\"no\"]')\n",
    "    G_2 = osmnx.graph_from_place(place,retain_all=True,custom_filter='[\"cycleway\"~\"lane\"]')\n",
    "    L2 = nx.compose(G_1,G_2)\n",
    "\n",
    "    L3 = osmnx.graph_from_place(place,retain_all=True,network_type='bike',simplify=True)\n",
    "    L4 = osmnx.graph_from_place(place,retain_all=True,network_type='drive',simplify=True) \n",
    "    return [L1,L2,L3,L4]"
   ]
  },
  {
   "cell_type": "code",
   "execution_count": 3,
   "id": "915b0fb6-9196-48b2-88fe-49c8efd6ba54",
   "metadata": {},
   "outputs": [],
   "source": [
    "def get_nodes(graph,dem_data):\n",
    "    '''INPUT: networkx graph representing a single road type layer\n",
    "       OUTPUT: GeoDataFrame of nodes in the graph, with adjusted geometry'''\n",
    "    # convert networkx data to GeoDataFrame form\n",
    "    nodes, streets = osmnx.graph_to_gdfs(graph)\n",
    "    \n",
    "    # make the coordinate reference systems of ACS data and OSM data the same (Web Mercator)\n",
    "    nodes = nodes.to_crs(dem_data.crs)\n",
    "    # update coordinate columns based on new crs geometry\n",
    "    nodes['x'] = nodes['geometry'].apply(lambda g: g.coords[0][0])\n",
    "    nodes['y'] = nodes['geometry'].apply(lambda g: g.coords[0][-1])\n",
    "    return nodes"
   ]
  },
  {
   "cell_type": "code",
   "execution_count": 4,
   "id": "e20475d2-ea25-4e57-a7a5-ff687ecda152",
   "metadata": {},
   "outputs": [],
   "source": [
    "def get_streets(graph,dem_data):\n",
    "    '''INPUT: networkx graph representing a single road type layer\n",
    "       OUTPUT: GeoDataFrame of streets/edges in the graph, with adjusted geometry'''\n",
    "    # convert networkx data to GeoDataFrame form\n",
    "    nodes, streets = osmnx.graph_to_gdfs(graph)\n",
    "    \n",
    "    streets = streets.to_crs(dem_data.crs)\n",
    "    return streets"
   ]
  },
  {
   "cell_type": "code",
   "execution_count": 29,
   "id": "8650a589-e4a6-4799-ad1f-6a17e32ed2e7",
   "metadata": {},
   "outputs": [],
   "source": [
    "def get_data(place,level='tract',variables=None):\n",
    "    '''INPUT: string query for place of interest\n",
    "       OUTPUT: DataFrame of demographic data, \n",
    "               list of GeoDataFrames corresponding to nodes from different road type layers,\n",
    "               list of GeoDataFrames corresponding to edges from different road type layers'''\n",
    "    # pull demographic data from ACS\n",
    "    acs = cenpy.products.ACS()\n",
    "    dem_data = acs.from_place(place,place_type=\"Incorporated Place\",level=level,variables=variables)\n",
    "    # pull street network data from OSM\n",
    "    graphs = return_layers(place)\n",
    "    nodes = [get_nodes(graph,dem_data) for graph in graphs]\n",
    "    streets = [get_streets(graph,dem_data) for graph in graphs]\n",
    "    \n",
    "    return dem_data,nodes,streets"
   ]
  },
  {
   "cell_type": "code",
   "execution_count": 33,
   "id": "02c4663a-167b-417b-8859-e8aaff15ea69",
   "metadata": {},
   "outputs": [
    {
     "name": "stdout",
     "output_type": "stream",
     "text": [
      "Matched: Detroit,MI to Detroit city within layer Incorporated Places\n"
     ]
    },
    {
     "name": "stderr",
     "output_type": "stream",
     "text": [
      "C:\\Users\\kyan3\\AppData\\Local\\Temp\\ipykernel_14608\\3924244956.py:8: FutureWarning: The `op` parameter is deprecated and will be removed in a future release. Please use the `predicate` parameter instead.\n",
      "  dem_data = acs.from_place(place,place_type=\"Incorporated Place\",level=level,variables=variables)\n"
     ]
    }
   ],
   "source": [
    "place = 'Detroit,MI'\n",
    "dem,nodes,streets = get_data(place)"
   ]
  },
  {
   "cell_type": "code",
   "execution_count": 34,
   "id": "95cf8a5b-ef5f-4ce2-9a4a-364013f0e245",
   "metadata": {},
   "outputs": [
    {
     "name": "stderr",
     "output_type": "stream",
     "text": [
      "C:\\Users\\kyan3\\AppData\\Local\\Temp\\ipykernel_14608\\3991246571.py:3: UserWarning: Column names longer than 10 characters will be truncated when saved to ESRI Shapefile.\n",
      "  node_list.to_file('data/Detroit_nodes_'+str(ix))\n",
      "C:\\Users\\kyan3\\AppData\\Local\\Temp\\ipykernel_14608\\3991246571.py:3: UserWarning: Column names longer than 10 characters will be truncated when saved to ESRI Shapefile.\n",
      "  node_list.to_file('data/Detroit_nodes_'+str(ix))\n",
      "C:\\Users\\kyan3\\AppData\\Local\\Temp\\ipykernel_14608\\3991246571.py:3: UserWarning: Column names longer than 10 characters will be truncated when saved to ESRI Shapefile.\n",
      "  node_list.to_file('data/Detroit_nodes_'+str(ix))\n",
      "C:\\Users\\kyan3\\AppData\\Local\\Temp\\ipykernel_14608\\3991246571.py:3: UserWarning: Column names longer than 10 characters will be truncated when saved to ESRI Shapefile.\n",
      "  node_list.to_file('data/Detroit_nodes_'+str(ix))\n",
      "C:\\Users\\kyan3\\miniconda3\\envs\\ox\\lib\\site-packages\\geopandas\\geodataframe.py:1443: SettingWithCopyWarning: \n",
      "A value is trying to be set on a copy of a slice from a DataFrame.\n",
      "Try using .loc[row_indexer,col_indexer] = value instead\n",
      "\n",
      "See the caveats in the documentation: https://pandas.pydata.org/pandas-docs/stable/user_guide/indexing.html#returning-a-view-versus-a-copy\n",
      "  super().__setitem__(key, value)\n",
      "C:\\Users\\kyan3\\miniconda3\\envs\\ox\\lib\\site-packages\\geopandas\\geodataframe.py:1443: SettingWithCopyWarning: \n",
      "A value is trying to be set on a copy of a slice from a DataFrame.\n",
      "Try using .loc[row_indexer,col_indexer] = value instead\n",
      "\n",
      "See the caveats in the documentation: https://pandas.pydata.org/pandas-docs/stable/user_guide/indexing.html#returning-a-view-versus-a-copy\n",
      "  super().__setitem__(key, value)\n",
      "C:\\Users\\kyan3\\miniconda3\\envs\\ox\\lib\\site-packages\\geopandas\\geodataframe.py:1443: SettingWithCopyWarning: \n",
      "A value is trying to be set on a copy of a slice from a DataFrame.\n",
      "Try using .loc[row_indexer,col_indexer] = value instead\n",
      "\n",
      "See the caveats in the documentation: https://pandas.pydata.org/pandas-docs/stable/user_guide/indexing.html#returning-a-view-versus-a-copy\n",
      "  super().__setitem__(key, value)\n",
      "C:\\Users\\kyan3\\miniconda3\\envs\\ox\\lib\\site-packages\\geopandas\\geodataframe.py:1443: SettingWithCopyWarning: \n",
      "A value is trying to be set on a copy of a slice from a DataFrame.\n",
      "Try using .loc[row_indexer,col_indexer] = value instead\n",
      "\n",
      "See the caveats in the documentation: https://pandas.pydata.org/pandas-docs/stable/user_guide/indexing.html#returning-a-view-versus-a-copy\n",
      "  super().__setitem__(key, value)\n"
     ]
    }
   ],
   "source": [
    "dem.to_file('data/Detroit_dem')\n",
    "for ix,node_list in enumerate(nodes):\n",
    "    node_list.to_file('data/Detroit_nodes_'+str(ix))\n",
    "for ix,street_list in enumerate(streets):\n",
    "    street_list = street_list[['highway','length','geometry']]\n",
    "    # convert any lists to strings in highway column\n",
    "    street_list['highway'] = [''.join(h) for h in street_list['highway']]\n",
    "    street_list.to_file('data/Detroit_streets_'+str(ix))"
   ]
  }
 ],
 "metadata": {
  "kernelspec": {
   "display_name": "Python 3 (ipykernel)",
   "language": "python",
   "name": "python3"
  },
  "language_info": {
   "codemirror_mode": {
    "name": "ipython",
    "version": 3
   },
   "file_extension": ".py",
   "mimetype": "text/x-python",
   "name": "python",
   "nbconvert_exporter": "python",
   "pygments_lexer": "ipython3",
   "version": "3.10.8"
  }
 },
 "nbformat": 4,
 "nbformat_minor": 5
}
